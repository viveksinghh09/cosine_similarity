{
 "cells": [
  {
   "cell_type": "code",
   "execution_count": 2,
   "id": "204fe902-a5c4-4046-9157-eb22c4d06382",
   "metadata": {},
   "outputs": [],
   "source": [
    "import numpy as np\n",
    "import pandas as pd\n",
    "import matplotlib.pyplot as plt\n",
    "import seaborn as sns"
   ]
  },
  {
   "cell_type": "code",
   "execution_count": 3,
   "id": "74e423d6-ebf9-4106-995d-b0f5eeddbecd",
   "metadata": {},
   "outputs": [],
   "source": [
    "df=pd.read_csv(\"bollywood1to950.csv\")"
   ]
  },
  {
   "cell_type": "code",
   "execution_count": 4,
   "id": "64d89206-af10-4bcc-b790-9b93c55f8d72",
   "metadata": {},
   "outputs": [
    {
     "data": {
      "text/html": [
       "<div>\n",
       "<style scoped>\n",
       "    .dataframe tbody tr th:only-of-type {\n",
       "        vertical-align: middle;\n",
       "    }\n",
       "\n",
       "    .dataframe tbody tr th {\n",
       "        vertical-align: top;\n",
       "    }\n",
       "\n",
       "    .dataframe thead th {\n",
       "        text-align: right;\n",
       "    }\n",
       "</style>\n",
       "<table border=\"1\" class=\"dataframe\">\n",
       "  <thead>\n",
       "    <tr style=\"text-align: right;\">\n",
       "      <th></th>\n",
       "      <th>Name</th>\n",
       "      <th>Year</th>\n",
       "      <th>Rating</th>\n",
       "      <th>Runtime</th>\n",
       "      <th>Votes</th>\n",
       "    </tr>\n",
       "  </thead>\n",
       "  <tbody>\n",
       "    <tr>\n",
       "      <th>0</th>\n",
       "      <td>Skater Girl</td>\n",
       "      <td>2021</td>\n",
       "      <td>6.6</td>\n",
       "      <td>107.0</td>\n",
       "      <td>1122.0</td>\n",
       "    </tr>\n",
       "    <tr>\n",
       "      <th>1</th>\n",
       "      <td>Radhe</td>\n",
       "      <td>2021</td>\n",
       "      <td>1.8</td>\n",
       "      <td>135.0</td>\n",
       "      <td>162353.0</td>\n",
       "    </tr>\n",
       "    <tr>\n",
       "      <th>2</th>\n",
       "      <td>Soorarai Pottru</td>\n",
       "      <td>2020</td>\n",
       "      <td>9.1</td>\n",
       "      <td>153.0</td>\n",
       "      <td>82987.0</td>\n",
       "    </tr>\n",
       "    <tr>\n",
       "      <th>3</th>\n",
       "      <td>Sandeep Aur Pinky Faraar</td>\n",
       "      <td>2021</td>\n",
       "      <td>6.3</td>\n",
       "      <td>125.0</td>\n",
       "      <td>6480.0</td>\n",
       "    </tr>\n",
       "    <tr>\n",
       "      <th>4</th>\n",
       "      <td>The White Tiger</td>\n",
       "      <td>2021</td>\n",
       "      <td>7.1</td>\n",
       "      <td>125.0</td>\n",
       "      <td>49865.0</td>\n",
       "    </tr>\n",
       "  </tbody>\n",
       "</table>\n",
       "</div>"
      ],
      "text/plain": [
       "                       Name  Year  Rating  Runtime     Votes\n",
       "0               Skater Girl  2021     6.6    107.0    1122.0\n",
       "1                     Radhe  2021     1.8    135.0  162353.0\n",
       "2           Soorarai Pottru  2020     9.1    153.0   82987.0\n",
       "3  Sandeep Aur Pinky Faraar  2021     6.3    125.0    6480.0\n",
       "4           The White Tiger  2021     7.1    125.0   49865.0"
      ]
     },
     "execution_count": 4,
     "metadata": {},
     "output_type": "execute_result"
    }
   ],
   "source": [
    "df.head(5)"
   ]
  },
  {
   "cell_type": "code",
   "execution_count": 5,
   "id": "dd74bb64-9ee3-4a75-8265-f89854de49d2",
   "metadata": {},
   "outputs": [],
   "source": [
    "df.drop('Year',axis=1,inplace=True)"
   ]
  },
  {
   "cell_type": "code",
   "execution_count": 6,
   "id": "eaea368c-ac44-45f2-9c18-065f68e3a8ad",
   "metadata": {},
   "outputs": [
    {
     "name": "stdout",
     "output_type": "stream",
     "text": [
      "<class 'pandas.core.frame.DataFrame'>\n",
      "RangeIndex: 950 entries, 0 to 949\n",
      "Data columns (total 4 columns):\n",
      " #   Column   Non-Null Count  Dtype  \n",
      "---  ------   --------------  -----  \n",
      " 0   Name     950 non-null    object \n",
      " 1   Rating   577 non-null    float64\n",
      " 2   Runtime  630 non-null    float64\n",
      " 3   Votes    577 non-null    float64\n",
      "dtypes: float64(3), object(1)\n",
      "memory usage: 29.8+ KB\n"
     ]
    }
   ],
   "source": [
    "df.info()"
   ]
  },
  {
   "cell_type": "code",
   "execution_count": 7,
   "id": "ccf6a7d8-f84e-478d-8f24-90c3b073626f",
   "metadata": {},
   "outputs": [],
   "source": [
    "df.dropna(inplace=True)"
   ]
  },
  {
   "cell_type": "code",
   "execution_count": 8,
   "id": "73ceefb3-e765-4054-bcca-3c69df7863cc",
   "metadata": {},
   "outputs": [
    {
     "name": "stdout",
     "output_type": "stream",
     "text": [
      "<class 'pandas.core.frame.DataFrame'>\n",
      "Index: 542 entries, 0 to 948\n",
      "Data columns (total 4 columns):\n",
      " #   Column   Non-Null Count  Dtype  \n",
      "---  ------   --------------  -----  \n",
      " 0   Name     542 non-null    object \n",
      " 1   Rating   542 non-null    float64\n",
      " 2   Runtime  542 non-null    float64\n",
      " 3   Votes    542 non-null    float64\n",
      "dtypes: float64(3), object(1)\n",
      "memory usage: 21.2+ KB\n"
     ]
    }
   ],
   "source": [
    "df.info()"
   ]
  },
  {
   "cell_type": "code",
   "execution_count": 9,
   "id": "70c5e253-d374-428b-a72a-d1b382d95246",
   "metadata": {},
   "outputs": [
    {
     "data": {
      "text/html": [
       "<div>\n",
       "<style scoped>\n",
       "    .dataframe tbody tr th:only-of-type {\n",
       "        vertical-align: middle;\n",
       "    }\n",
       "\n",
       "    .dataframe tbody tr th {\n",
       "        vertical-align: top;\n",
       "    }\n",
       "\n",
       "    .dataframe thead th {\n",
       "        text-align: right;\n",
       "    }\n",
       "</style>\n",
       "<table border=\"1\" class=\"dataframe\">\n",
       "  <thead>\n",
       "    <tr style=\"text-align: right;\">\n",
       "      <th></th>\n",
       "      <th>Rating</th>\n",
       "      <th>Runtime</th>\n",
       "      <th>Votes</th>\n",
       "    </tr>\n",
       "  </thead>\n",
       "  <tbody>\n",
       "    <tr>\n",
       "      <th>count</th>\n",
       "      <td>542.000000</td>\n",
       "      <td>542.000000</td>\n",
       "      <td>542.000000</td>\n",
       "    </tr>\n",
       "    <tr>\n",
       "      <th>mean</th>\n",
       "      <td>6.157749</td>\n",
       "      <td>117.439114</td>\n",
       "      <td>4819.313653</td>\n",
       "    </tr>\n",
       "    <tr>\n",
       "      <th>std</th>\n",
       "      <td>1.660391</td>\n",
       "      <td>24.915068</td>\n",
       "      <td>12772.636659</td>\n",
       "    </tr>\n",
       "    <tr>\n",
       "      <th>min</th>\n",
       "      <td>1.100000</td>\n",
       "      <td>45.000000</td>\n",
       "      <td>5.000000</td>\n",
       "    </tr>\n",
       "    <tr>\n",
       "      <th>25%</th>\n",
       "      <td>5.100000</td>\n",
       "      <td>101.000000</td>\n",
       "      <td>82.000000</td>\n",
       "    </tr>\n",
       "    <tr>\n",
       "      <th>50%</th>\n",
       "      <td>6.400000</td>\n",
       "      <td>119.000000</td>\n",
       "      <td>653.500000</td>\n",
       "    </tr>\n",
       "    <tr>\n",
       "      <th>75%</th>\n",
       "      <td>7.400000</td>\n",
       "      <td>134.750000</td>\n",
       "      <td>4035.000000</td>\n",
       "    </tr>\n",
       "    <tr>\n",
       "      <th>max</th>\n",
       "      <td>9.700000</td>\n",
       "      <td>261.000000</td>\n",
       "      <td>162353.000000</td>\n",
       "    </tr>\n",
       "  </tbody>\n",
       "</table>\n",
       "</div>"
      ],
      "text/plain": [
       "           Rating     Runtime          Votes\n",
       "count  542.000000  542.000000     542.000000\n",
       "mean     6.157749  117.439114    4819.313653\n",
       "std      1.660391   24.915068   12772.636659\n",
       "min      1.100000   45.000000       5.000000\n",
       "25%      5.100000  101.000000      82.000000\n",
       "50%      6.400000  119.000000     653.500000\n",
       "75%      7.400000  134.750000    4035.000000\n",
       "max      9.700000  261.000000  162353.000000"
      ]
     },
     "execution_count": 9,
     "metadata": {},
     "output_type": "execute_result"
    }
   ],
   "source": [
    "df.describe()"
   ]
  },
  {
   "cell_type": "code",
   "execution_count": 10,
   "id": "d35f2d06-962d-4a63-926a-b805a8ab0a36",
   "metadata": {},
   "outputs": [
    {
     "name": "stdout",
     "output_type": "stream",
     "text": [
      "Rating\n"
     ]
    },
    {
     "data": {
      "image/png": "[encoded data removed]",
      "text/plain": [
       "<Figure size 500x500 with 1 Axes>"
      ]
     },
     "metadata": {},
     "output_type": "display_data"
    },
    {
     "name": "stdout",
     "output_type": "stream",
     "text": [
      "Runtime\n"
     ]
    },
    {
     "data": {
      "image/png": "[encoded data removed]",
      "text/plain": [
       "<Figure size 500x500 with 1 Axes>"
      ]
     },
     "metadata": {},
     "output_type": "display_data"
    },
    {
     "name": "stdout",
     "output_type": "stream",
     "text": [
      "Votes\n"
     ]
    },
    {
     "data": {
      "image/png": "[encoded data removed]",
      "text/plain": [
       "<Figure size 500x500 with 1 Axes>"
      ]
     },
     "metadata": {},
     "output_type": "display_data"
    }
   ],
   "source": [
    "for col_name in df.select_dtypes('number').columns:\n",
    "    print(col_name)\n",
    "    sns.displot(df[col_name])\n",
    "    plt.show()"
   ]
  },
  {
   "cell_type": "code",
   "execution_count": 11,
   "id": "c94d442e-53cc-4dc0-a611-b501f2f75b7d",
   "metadata": {},
   "outputs": [
    {
     "name": "stdout",
     "output_type": "stream",
     "text": [
      "Rating\n"
     ]
    },
    {
     "data": {
      "image/png": "[encoded data removed]",
      "text/plain": [
       "<Figure size 500x500 with 1 Axes>"
      ]
     },
     "metadata": {},
     "output_type": "display_data"
    },
    {
     "name": "stdout",
     "output_type": "stream",
     "text": [
      "Runtime\n"
     ]
    },
    {
     "data": {
      "image/png": "[encoded data removed]",
      "text/plain": [
       "<Figure size 500x500 with 1 Axes>"
      ]
     },
     "metadata": {},
     "output_type": "display_data"
    },
    {
     "name": "stdout",
     "output_type": "stream",
     "text": [
      "Votes\n"
     ]
    },
    {
     "data": {
      "image/png": "[encoded data removed]",
      "text/plain": [
       "<Figure size 500x500 with 1 Axes>"
      ]
     },
     "metadata": {},
     "output_type": "display_data"
    }
   ],
   "source": [
    "for col_name in df.select_dtypes('number').columns:\n",
    "    print(col_name)\n",
    "    sns.displot(df[col_name])\n",
    "    plt.show()"
   ]
  },
  {
   "cell_type": "code",
   "execution_count": 12,
   "id": "b5c06227-6adc-4918-bdc6-9a10739994f7",
   "metadata": {},
   "outputs": [],
   "source": [
    "from sklearn.preprocessing import MinMaxScaler\n",
    "mm=MinMaxScaler()"
   ]
  },
  {
   "cell_type": "code",
   "execution_count": 13,
   "id": "52bbefe0-fcf0-40ec-afa8-4cd9d31f57cf",
   "metadata": {},
   "outputs": [],
   "source": [
    "feature=mm.fit_transform(df.drop('Name',axis=1))"
   ]
  },
  {
   "cell_type": "code",
   "execution_count": 14,
   "id": "92643dd5-6cb9-4742-b8f2-c486ab0e8307",
   "metadata": {},
   "outputs": [],
   "source": [
    "from sklearn.metrics.pairwise import cosine_similarity"
   ]
  },
  {
   "cell_type": "code",
   "execution_count": 15,
   "id": "fd75f953-ab7f-4d3d-b250-bd51ecf38724",
   "metadata": {},
   "outputs": [],
   "source": [
    "similarity=cosine_similarity(feature)"
   ]
  },
  {
   "cell_type": "code",
   "execution_count": 16,
   "id": "70c4655b-8307-48f4-97a0-5df2ce0b8b4b",
   "metadata": {},
   "outputs": [],
   "source": [
    "cosine_df=pd.DataFrame(similarity,index=df['Name'],columns=df['Name'])"
   ]
  },
  {
   "cell_type": "code",
   "execution_count": 18,
   "id": "bccb1676-6d23-4c31-b415-d700031772f5",
   "metadata": {},
   "outputs": [],
   "source": [
    "def recommend_movies (movie_name):\n",
    "    print('Movie Watched:',movie_name)\n",
    "    print('Top 10 Recommended Movies:')\n",
    "    for i in cosine_df[movie_name].sort_values(ascending=False)[1:].head(10).index:\n",
    "        print(i)"
   ]
  },
  {
   "cell_type": "code",
   "execution_count": 19,
   "id": "57aca682-cc84-405f-99da-a0414ca86621",
   "metadata": {},
   "outputs": [
    {
     "name": "stdout",
     "output_type": "stream",
     "text": [
      "Movie Watched: GOLD\n",
      "Top 10 Recommended Movies:\n",
      "Malang\n",
      "Batla House\n",
      "Shakuntala Devi\n",
      "Angrezi Medium\n",
      "Kesari\n",
      "Vada Chennai\n",
      "Raat Akeli Hai\n",
      "Pati Patni Aur Woh\n",
      "Mulk\n",
      "Thappad\n"
     ]
    }
   ],
   "source": [
    "recommend_movies('GOLD')"
   ]
  },
  {
   "cell_type": "code",
   "execution_count": null,
   "id": "621112a2-fb4a-4fd6-a545-a7307d89cc9c",
   "metadata": {},
   "outputs": [],
   "source": []
  },
  {
   "cell_type": "code",
   "execution_count": null,
   "id": "3f23501c-a4d0-4459-9454-48fa89c6c798",
   "metadata": {},
   "outputs": [],
   "source": []
  }
 ],
 "metadata": {
  "kernelspec": {
   "display_name": "Python 3 (ipykernel)",
   "language": "python",
   "name": "python3"
  },
  "language_info": {
   "codemirror_mode": {
    "name": "ipython",
    "version": 3
   },
   "file_extension": ".py",
   "mimetype": "text/x-python",
   "name": "python",
   "nbconvert_exporter": "python",
   "pygments_lexer": "ipython3",
   "version": "3.13.3"
  }
 },
 "nbformat": 4,
 "nbformat_minor": 5
}
